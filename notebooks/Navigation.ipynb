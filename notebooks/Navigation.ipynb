{
 "cells": [
  {
   "cell_type": "markdown",
   "metadata": {},
   "source": [
    "# Navigation\n",
    "\n",
    "---\n",
    "\n",
    "In this notebook, you will learn how to use the Unity ML-Agents environment for the first project of the [Deep Reinforcement Learning Nanodegree](https://www.udacity.com/course/deep-reinforcement-learning-nanodegree--nd893).\n",
    "\n",
    "### 1. Start the Environment\n",
    "\n",
    "We begin by importing some necessary packages.  If the code cell below returns an error, please revisit the project instructions to double-check that you have installed [Unity ML-Agents](https://github.com/Unity-Technologies/ml-agents/blob/master/docs/Installation.md) and [NumPy](http://www.numpy.org/)."
   ]
  },
  {
   "cell_type": "code",
   "execution_count": 1,
   "metadata": {},
   "outputs": [],
   "source": [
    "import pathlib\n",
    "\n",
    "from unityagents import UnityEnvironment\n",
    "import numpy as np"
   ]
  },
  {
   "cell_type": "markdown",
   "metadata": {},
   "source": [
    "Next, we will start the environment!  **_Before running the code cell below_**, change the `file_name` parameter to match the location of the Unity environment that you downloaded.\n",
    "\n",
    "- **Mac**: `\"path/to/Banana.app\"`\n",
    "- **Windows** (x86): `\"path/to/Banana_Windows_x86/Banana.exe\"`\n",
    "- **Windows** (x86_64): `\"path/to/Banana_Windows_x86_64/Banana.exe\"`\n",
    "- **Linux** (x86): `\"path/to/Banana_Linux/Banana.x86\"`\n",
    "- **Linux** (x86_64): `\"path/to/Banana_Linux/Banana.x86_64\"`\n",
    "- **Linux** (x86, headless): `\"path/to/Banana_Linux_NoVis/Banana.x86\"`\n",
    "- **Linux** (x86_64, headless): `\"path/to/Banana_Linux_NoVis/Banana.x86_64\"`\n",
    "\n",
    "For instance, if you are using a Mac, then you downloaded `Banana.app`.  If this file is in the same folder as the notebook, then the line below should appear as follows:\n",
    "```\n",
    "env = UnityEnvironment(file_name=\"Banana.app\")\n",
    "```"
   ]
  },
  {
   "cell_type": "code",
   "execution_count": 2,
   "metadata": {},
   "outputs": [],
   "source": [
    "_file = pathlib.Path(\"../environments/Banana.app\")"
   ]
  },
  {
   "cell_type": "code",
   "execution_count": 5,
   "metadata": {},
   "outputs": [
    {
     "data": {
      "text/plain": [
       "\u001b[0;31mSignature:\u001b[0m \u001b[0m_file\u001b[0m\u001b[0;34m.\u001b[0m\u001b[0mas_posix\u001b[0m\u001b[0;34m(\u001b[0m\u001b[0;34m)\u001b[0m\u001b[0;34m\u001b[0m\u001b[0;34m\u001b[0m\u001b[0m\n",
       "\u001b[0;31mDocstring:\u001b[0m\n",
       "Return the string representation of the path with forward (/)\n",
       "slashes.\n",
       "\u001b[0;31mFile:\u001b[0m      ~/Training/udacity/udacity-drlnd-projects/env/lib/python3.6/pathlib.py\n",
       "\u001b[0;31mType:\u001b[0m      method\n"
      ]
     },
     "metadata": {},
     "output_type": "display_data"
    }
   ],
   "source": [
    "_file.as_posix?"
   ]
  },
  {
   "cell_type": "code",
   "execution_count": 4,
   "metadata": {},
   "outputs": [
    {
     "name": "stderr",
     "output_type": "stream",
     "text": [
      "INFO:unityagents:\n",
      "'Academy' started successfully!\n",
      "Unity Academy name: Academy\n",
      "        Number of Brains: 1\n",
      "        Number of External Brains : 1\n",
      "        Lesson number : 0\n",
      "        Reset Parameters :\n",
      "\t\t\n",
      "Unity brain name: BananaBrain\n",
      "        Number of Visual Observations (per agent): 0\n",
      "        Vector Observation space type: continuous\n",
      "        Vector Observation space size (per agent): 37\n",
      "        Number of stacked Vector Observation: 1\n",
      "        Vector Action space type: discrete\n",
      "        Vector Action space size (per agent): 4\n",
      "        Vector Action descriptions: , , , \n"
     ]
    }
   ],
   "source": [
    "env = UnityEnvironment(file_name=_file.as_posix())"
   ]
  },
  {
   "cell_type": "markdown",
   "metadata": {},
   "source": [
    "Environments contain **_brains_** which are responsible for deciding the actions of their associated agents. Here we check for the first brain available, and set it as the default brain we will be controlling from Python."
   ]
  },
  {
   "cell_type": "code",
   "execution_count": 3,
   "metadata": {},
   "outputs": [],
   "source": [
    "# get the default brain\n",
    "brain_name = env.brain_names[0]\n",
    "brain = env.brains[brain_name]"
   ]
  },
  {
   "cell_type": "markdown",
   "metadata": {},
   "source": [
    "### 2. Examine the State and Action Spaces\n",
    "\n",
    "The simulation contains a single agent that navigates a large environment.  At each time step, it has four actions at its disposal:\n",
    "- `0` - walk forward \n",
    "- `1` - walk backward\n",
    "- `2` - turn left\n",
    "- `3` - turn right\n",
    "\n",
    "The state space has `37` dimensions and contains the agent's velocity, along with ray-based perception of objects around agent's forward direction.  A reward of `+1` is provided for collecting a yellow banana, and a reward of `-1` is provided for collecting a blue banana. \n",
    "\n",
    "Run the code cell below to print some information about the environment."
   ]
  },
  {
   "cell_type": "code",
   "execution_count": 4,
   "metadata": {},
   "outputs": [],
   "source": [
    "import os\n",
    "import sys\n",
    "\n",
    "sys.path.append(os.path.abspath('../src/'))"
   ]
  },
  {
   "cell_type": "code",
   "execution_count": 5,
   "metadata": {},
   "outputs": [],
   "source": [
    "import agents"
   ]
  },
  {
   "cell_type": "code",
   "execution_count": 12,
   "metadata": {},
   "outputs": [
    {
     "name": "stdout",
     "output_type": "stream",
     "text": [
      "Collecting gym-unity\n",
      "  Using cached gym_unity-0.15.1-py3-none-any.whl (7.5 kB)\n",
      "Requirement already satisfied: gym in /Users/pughdr/Training/udacity/deep-reinforcement-learning/udacity-drlnd-projects/env/lib/python3.6/site-packages (from gym-unity) (0.17.1)\n",
      "Collecting mlagents-envs==0.15.1\n",
      "  Using cached mlagents_envs-0.15.1-py3-none-any.whl (54 kB)\n",
      "Requirement already satisfied: grpcio>=1.11.0 in /Users/pughdr/Training/udacity/deep-reinforcement-learning/udacity-drlnd-projects/env/lib/python3.6/site-packages (from mlagents-envs==0.15.1->gym-unity) (1.11.0)\n",
      "Requirement already satisfied: numpy<2.0,>=1.14.1 in /Users/pughdr/Training/udacity/deep-reinforcement-learning/udacity-drlnd-projects/env/lib/python3.6/site-packages (from mlagents-envs==0.15.1->gym-unity) (1.18.1)\n",
      "Requirement already satisfied: Pillow>=4.2.1 in /Users/pughdr/Training/udacity/deep-reinforcement-learning/udacity-drlnd-projects/env/lib/python3.6/site-packages (from mlagents-envs==0.15.1->gym-unity) (7.1.2)\n",
      "Collecting protobuf>=3.6\n",
      "  Downloading protobuf-3.11.3-cp36-cp36m-macosx_10_9_x86_64.whl (1.3 MB)\n",
      "\u001b[K     |████████████████████████████████| 1.3 MB 362 kB/s eta 0:00:01\n",
      "\u001b[?25hRequirement already satisfied: cloudpickle in /Users/pughdr/Training/udacity/deep-reinforcement-learning/udacity-drlnd-projects/env/lib/python3.6/site-packages (from mlagents-envs==0.15.1->gym-unity) (1.3.0)\n",
      "Requirement already satisfied: six>=1.5.2 in /Users/pughdr/Training/udacity/deep-reinforcement-learning/udacity-drlnd-projects/env/lib/python3.6/site-packages (from grpcio>=1.11.0->mlagents-envs==0.15.1->gym-unity) (1.14.0)\n",
      "Requirement already satisfied: setuptools in /Users/pughdr/Training/udacity/deep-reinforcement-learning/udacity-drlnd-projects/env/lib/python3.6/site-packages (from protobuf>=3.6->mlagents-envs==0.15.1->gym-unity) (46.1.3.post20200325)\n",
      "\u001b[31mERROR: unityagents 0.4.0 has requirement protobuf==3.5.2, but you'll have protobuf 3.11.3 which is incompatible.\u001b[0m\n",
      "Installing collected packages: protobuf, mlagents-envs, gym-unity\n",
      "  Attempting uninstall: protobuf\n",
      "    Found existing installation: protobuf 3.5.2\n",
      "    Uninstalling protobuf-3.5.2:\n",
      "      Successfully uninstalled protobuf-3.5.2\n",
      "Successfully installed gym-unity-0.15.1 mlagents-envs-0.15.1 protobuf-3.11.3\n"
     ]
    }
   ],
   "source": [
    "!pip install gym-unity"
   ]
  },
  {
   "cell_type": "code",
   "execution_count": 4,
   "metadata": {},
   "outputs": [
    {
     "name": "stdout",
     "output_type": "stream",
     "text": [
      "Number of agents: 1\n",
      "Number of actions: 4\n",
      "States look like: [1.         0.         0.         0.         0.84408134 0.\n",
      " 0.         1.         0.         0.0748472  0.         1.\n",
      " 0.         0.         0.25755    1.         0.         0.\n",
      " 0.         0.74177343 0.         1.         0.         0.\n",
      " 0.25854847 0.         0.         1.         0.         0.09355672\n",
      " 0.         1.         0.         0.         0.31969345 0.\n",
      " 0.        ]\n",
      "States have length: 37\n"
     ]
    }
   ],
   "source": [
    "# reset the environment\n",
    "env_info = env.reset(train_mode=True)[brain_name]\n",
    "\n",
    "# number of agents in the environment\n",
    "print('Number of agents:', len(env_info.agents))\n",
    "\n",
    "# number of actions\n",
    "action_size = brain.vector_action_space_size\n",
    "print('Number of actions:', action_size)\n",
    "\n",
    "# examine the state space \n",
    "state = env_info.vector_observations[0]\n",
    "print('States look like:', state)\n",
    "state_size = len(state)\n",
    "print('States have length:', state_size)"
   ]
  },
  {
   "cell_type": "code",
   "execution_count": 6,
   "metadata": {},
   "outputs": [
    {
     "data": {
      "text/plain": [
       "dtype('float64')"
      ]
     },
     "execution_count": 6,
     "metadata": {},
     "output_type": "execute_result"
    }
   ],
   "source": [
    "state.dtype"
   ]
  },
  {
   "cell_type": "markdown",
   "metadata": {},
   "source": [
    "### 3. Take Random Actions in the Environment\n",
    "\n",
    "In the next code cell, you will learn how to use the Python API to control the agent and receive feedback from the environment.\n",
    "\n",
    "Once this cell is executed, you will watch the agent's performance, if it selects an action (uniformly) at random with each time step.  A window should pop up that allows you to observe the agent, as it moves through the environment.  \n",
    "\n",
    "Of course, as part of the project, you'll have to change the code so that the agent is able to use its experience to gradually choose better actions when interacting with the environment!"
   ]
  },
  {
   "cell_type": "code",
   "execution_count": 7,
   "metadata": {},
   "outputs": [
    {
     "name": "stdout",
     "output_type": "stream",
     "text": [
      "Score: 0.0\n"
     ]
    }
   ],
   "source": [
    "env_info = env.reset(train_mode=False)[brain_name] # reset the environment\n",
    "state = env_info.vector_observations[0]            # get the current state\n",
    "score = 0                                          # initialize the score\n",
    "while True:\n",
    "    action = np.random.randint(action_size)        # select an action\n",
    "    env_info = env.step(action)[brain_name]        # send the action to the environment\n",
    "    next_state = env_info.vector_observations[0]   # get the next state\n",
    "    reward = env_info.rewards[0]                   # get the reward\n",
    "    done = env_info.local_done[0]                  # see if episode has finished\n",
    "    score += reward                                # update the score\n",
    "    state = next_state                             # roll over the state to next time step\n",
    "    if done:                                       # exit loop if episode finished\n",
    "        break\n",
    "    \n",
    "print(\"Score: {}\".format(score))"
   ]
  },
  {
   "cell_type": "markdown",
   "metadata": {},
   "source": [
    "When finished, you can close the environment."
   ]
  },
  {
   "cell_type": "code",
   "execution_count": 8,
   "metadata": {},
   "outputs": [],
   "source": [
    "env.close()"
   ]
  },
  {
   "cell_type": "markdown",
   "metadata": {},
   "source": [
    "### 4. It's Your Turn!"
   ]
  },
  {
   "cell_type": "code",
   "execution_count": 11,
   "metadata": {},
   "outputs": [],
   "source": [
    "import sys\n",
    "import typing\n",
    "\n",
    "sys.path.append(\"../src\")"
   ]
  },
  {
   "cell_type": "code",
   "execution_count": 12,
   "metadata": {},
   "outputs": [],
   "source": [
    "import numpy as np\n",
    "import torch\n",
    "from torch import nn, optim\n",
    "from unityagents import UnityEnvironment\n",
    "\n",
    "import agents\n",
    "import replay_buffers\n",
    "import utils"
   ]
  },
  {
   "cell_type": "code",
   "execution_count": 13,
   "metadata": {},
   "outputs": [
    {
     "name": "stderr",
     "output_type": "stream",
     "text": [
      "INFO:unityagents:\n",
      "'Academy' started successfully!\n",
      "Unity Academy name: Academy\n",
      "        Number of Brains: 1\n",
      "        Number of External Brains : 1\n",
      "        Lesson number : 0\n",
      "        Reset Parameters :\n",
      "\t\t\n",
      "Unity brain name: BananaBrain\n",
      "        Number of Visual Observations (per agent): 0\n",
      "        Vector Observation space type: continuous\n",
      "        Vector Observation space size (per agent): 37\n",
      "        Number of stacked Vector Observation: 1\n",
      "        Vector Action space type: discrete\n",
      "        Vector Action space size (per agent): 4\n",
      "        Vector Action descriptions: , , , \n"
     ]
    }
   ],
   "source": [
    "ENV = UnityEnvironment(file_name=\"../environments/Banana.app\")\n",
    "\n",
    "BRAIN_NAME = ENV.brain_names[0]\n",
    "BRAIN = ENV.brains[BRAIN_NAME]\n",
    "\n",
    "NUMBER_STATES = BRAIN.vector_observation_space_size\n",
    "NUMBER_ACTIONS = BRAIN.vector_action_space_size\n",
    "\n",
    "SEED = 42\n",
    "RANDOM_STATE = np.random.RandomState(SEED)"
   ]
  },
  {
   "cell_type": "code",
   "execution_count": 14,
   "metadata": {},
   "outputs": [],
   "source": [
    "def beta_annealing_schedule(episode_number: int,\n",
    "                            initial_beta: float,\n",
    "                            rate: float) -> float:\n",
    "    \"\"\"Annealing schedule the strength of correction used with prioritized sampling.\"\"\"\n",
    "    return initial_beta + (1 - initial_beta) * (1 - np.exp(-rate * episode_number))\n",
    "\n",
    "\n",
    "def make_beta_annealing_schedule(rate: float) -> replay_buffers.BetaAnnealingSchedule:\n",
    "    \"\"\"Create a function that returns the value for beta.\"\"\"\n",
    "    return lambda n, b: beta_annealing_schedule(n, b, rate)\n",
    "\n",
    "\n",
    "def epsilon_decay_schedule(episode_number: int,\n",
    "                           decay_factor: float,\n",
    "                           minimum_epsilon: float) -> float:\n",
    "    \"\"\"Decay schedule for the probability that agent chooses an action at random.\"\"\"\n",
    "    return max(decay_factor**episode_number, minimum_epsilon)\n",
    "\n",
    "\n",
    "def make_epsilon_decay_schedule(decay_factor: float,\n",
    "                                minimum_epsilon: float) -> agents.EpsilonDecaySchedule:\n",
    "    \"\"\"Create a function that returns the value for epsilon.\"\"\"\n",
    "    return lambda n: epsilon_decay_schedule(n, decay_factor, minimum_epsilon)\n",
    "\n",
    "\n",
    "def make_deep_q_network_fn(number_states: int,\n",
    "                           number_actions: int,\n",
    "                           number_hidden_units: int) -> agents.DeepQNetworkFn:\n",
    "    \"\"\"Create a function that returns a DeepQNetwork with appropriate input and output shapes.\"\"\"\n",
    "    \n",
    "    def deep_q_network_fn() -> agents.DeepQNetwork:\n",
    "        deep_q_network = nn.Sequential(\n",
    "            nn.Linear(in_features=number_states, out_features=number_hidden_units),\n",
    "            nn.ReLU(),\n",
    "            nn.Linear(in_features=number_hidden_units, out_features=number_hidden_units),\n",
    "            nn.ReLU(),\n",
    "            nn.Linear(in_features=number_hidden_units, out_features=number_actions)\n",
    "        )\n",
    "        return deep_q_network\n",
    "    \n",
    "    return deep_q_network_fn\n",
    "\n",
    "\n",
    "def preprocessing_fn(state: agents.UnityState) -> torch.Tensor:\n",
    "    \"\"\"Maps external env state repr to agent's internal env state repr.\"\"\"\n",
    "    tensor = (torch.Tensor(state)\n",
    "                   .unsqueeze(dim=0))\n",
    "    return tensor\n",
    "            "
   ]
  },
  {
   "cell_type": "code",
   "execution_count": 15,
   "metadata": {},
   "outputs": [],
   "source": [
    "_beta_annealing_schedule_kwargs = {\n",
    "    \"rate\": 1e-2\n",
    "}\n",
    "\n",
    "_replay_buffer_kwargs = {\n",
    "    \"maximum_size\": 100000,\n",
    "    \"alpha\": 0.5,\n",
    "    \"beta_annealing_schedule\": make_beta_annealing_schedule(**_beta_annealing_schedule_kwargs),\n",
    "    \"initial_beta\": 0.0,\n",
    "    \"random_state\": RANDOM_STATE,\n",
    "}\n",
    "buffer = replay_buffers.PrioritizedExperienceReplayBuffer(**_replay_buffer_kwargs)\n",
    "\n",
    "_deep_q_network_kwargs = {\n",
    "    \"number_states\": NUMBER_STATES,\n",
    "    \"number_actions\": NUMBER_ACTIONS,\n",
    "    \"number_hidden_units\": 64\n",
    "}\n",
    "deep_q_network_fn = make_deep_q_network_fn(**_deep_q_network_kwargs)"
   ]
  },
  {
   "cell_type": "code",
   "execution_count": 16,
   "metadata": {},
   "outputs": [],
   "source": [
    "_optimizer_kwargs = {\n",
    "    \"lr\": 1e-3,\n",
    "    \"betas\":(0.9, 0.999),\n",
    "    \"eps\": 1e-08,\n",
    "    \"weight_decay\": 0,\n",
    "    \"amsgrad\": False,\n",
    "}\n",
    "\n",
    "_epsilon_decay_schedule_kwargs = {\n",
    "    \"decay_factor\": 0.99,\n",
    "    \"minimum_epsilon\": 1e-2,\n",
    "}\n",
    "\n",
    "_agent_kwargs = {\n",
    "    \"number_actions\": NUMBER_ACTIONS, \n",
    "    \"optimizer_kwargs\": _optimizer_kwargs,\n",
    "    \"preprocessing_fn\": preprocessing_fn,\n",
    "    \"replay_buffer\": buffer,\n",
    "    \"deep_q_network_fn\": deep_q_network_fn,\n",
    "    \"epsilon_decay_schedule\": make_epsilon_decay_schedule(**_epsilon_decay_schedule_kwargs),\n",
    "    \"batch_size\": 64,\n",
    "    \"gamma\": 0.95,\n",
    "    \"update_frequency\": 4,\n",
    "    \"seed\": RANDOM_STATE.randint(SEED),\n",
    "}\n",
    "double_dqn_agent = agents.DeepQAgent(**_agent_kwargs)\n"
   ]
  },
  {
   "cell_type": "code",
   "execution_count": 17,
   "metadata": {},
   "outputs": [
    {
     "name": "stdout",
     "output_type": "stream",
     "text": [
      "Episode 100\tAverage Score: 0.31\n",
      "Episode 200\tAverage Score: 0.49\n",
      "Episode 300\tAverage Score: 0.67\n",
      "Episode 400\tAverage Score: 0.72\n",
      "Episode 500\tAverage Score: 6.30\n",
      "Episode 600\tAverage Score: 5.98\n",
      "Episode 700\tAverage Score: 7.26\n",
      "Episode 800\tAverage Score: 9.02\n",
      "Episode 900\tAverage Score: 11.13\n",
      "\n",
      "Environment solved in 976 episodes!\tAverage Score: 13.12\n"
     ]
    }
   ],
   "source": [
    "scores = utils.train(double_dqn_agent,\n",
    "                     ENV,\n",
    "                     BRAIN_NAME,\n",
    "                     \"top-score-checkpoint.pth\",\n",
    "                     number_episodes=2000,\n",
    "                     target_score=13)\n"
   ]
  },
  {
   "cell_type": "markdown",
   "metadata": {},
   "source": [
    "#### Plotting the time series of scores\n",
    "\n",
    "I can use [Pandas](https://pandas.pydata.org/) to quickly plot the time series of scores along with a 100 episode moving average."
   ]
  },
  {
   "cell_type": "code",
   "execution_count": 24,
   "metadata": {},
   "outputs": [],
   "source": [
    "import matplotlib.pyplot as plt\n",
    "import pandas as pd\n",
    "\n",
    "scores_df = pd.Series(scores, name=\"Scores\")"
   ]
  },
  {
   "cell_type": "code",
   "execution_count": 27,
   "metadata": {},
   "outputs": [
    {
     "data": {
      "image/png": "[encoded data removed]",
      "text/plain": [
       "<Figure size 720x432 with 1 Axes>"
      ]
     },
     "metadata": {
      "needs_background": "light"
     },
     "output_type": "display_data"
    }
   ],
   "source": [
    "fig, ax = plt.subplots(1, 1, figsize=(10, 6))\n",
    "_ = scores_df.plot(ax=ax, label=\"DDQN with priority sampling\")\n",
    "_ = (scores_df.rolling(window=100)\n",
    "              .mean()\n",
    "              .rename(\"Rolling Average\")\n",
    "              .plot(ax=ax))\n",
    "_ = ax.legend()\n",
    "_ = ax.set_ylabel(\"Score\")\n",
    "_ = ax.set_xlabel(\"Episode Number\")\n",
    "fig.savefig(\"../assets/rewards-plot.jpg\")"
   ]
  },
  {
   "cell_type": "markdown",
   "metadata": {},
   "source": [
    "#### Kernel density plot of the scores"
   ]
  },
  {
   "cell_type": "code",
   "execution_count": 29,
   "metadata": {},
   "outputs": [
    {
     "data": {
      "image/png": "[encoded data removed]",
      "text/plain": [
       "<Figure size 720x432 with 1 Axes>"
      ]
     },
     "metadata": {
      "needs_background": "light"
     },
     "output_type": "display_data"
    }
   ],
   "source": [
    "fig, ax = plt.subplots(1, 1, figsize=(10, 6))\n",
    "_ = scores_df.plot(kind=\"kde\", ax=ax, label=\"Priority Sampling\")\n",
    "_ = ax.set_xlabel(\"Score\")\n",
    "_ = ax.legend()"
   ]
  },
  {
   "cell_type": "code",
   "execution_count": null,
   "metadata": {},
   "outputs": [],
   "source": []
  }
 ],
 "metadata": {
  "kernelspec": {
   "display_name": "Python 3",
   "language": "python",
   "name": "python3"
  },
  "language_info": {
   "codemirror_mode": {
    "name": "ipython",
    "version": 3
   },
   "file_extension": ".py",
   "mimetype": "text/x-python",
   "name": "python",
   "nbconvert_exporter": "python",
   "pygments_lexer": "ipython3",
   "version": "3.6.10"
  }
 },
 "nbformat": 4,
 "nbformat_minor": 4
}
